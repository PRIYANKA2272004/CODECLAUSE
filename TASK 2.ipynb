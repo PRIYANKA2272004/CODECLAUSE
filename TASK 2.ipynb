{
 "cells": [
  {
   "cell_type": "markdown",
   "id": "0e42a77b",
   "metadata": {},
   "source": [
    "# GOLD  PRICE  PREDICTION"
   ]
  },
  {
   "cell_type": "markdown",
   "id": "02d193db",
   "metadata": {},
   "source": [
    "# 1.Import  the libraries"
   ]
  },
  {
   "cell_type": "code",
   "execution_count": 1,
   "id": "9f7c7f23",
   "metadata": {},
   "outputs": [],
   "source": [
    "import numpy as np\n",
    "import pandas as pd\n",
    "import matplotlib.pyplot as plt\n",
    "import seaborn as sns\n",
    "from sklearn.model_selection import train_test_split\n",
    "from sklearn.ensemble import RandomForestRegressor\n",
    "from sklearn import metrics"
   ]
  },
  {
   "cell_type": "markdown",
   "id": "3575421f",
   "metadata": {},
   "source": [
    "# 2.Read the Dataset"
   ]
  },
  {
   "cell_type": "code",
   "execution_count": 3,
   "id": "a0600638",
   "metadata": {},
   "outputs": [],
   "source": [
    "data = pd.read_csv('gld_price_data.csv')"
   ]
  },
  {
   "cell_type": "code",
   "execution_count": 4,
   "id": "1fd4b6ed",
   "metadata": {},
   "outputs": [
    {
     "data": {
      "text/html": [
       "<div>\n",
       "<style scoped>\n",
       "    .dataframe tbody tr th:only-of-type {\n",
       "        vertical-align: middle;\n",
       "    }\n",
       "\n",
       "    .dataframe tbody tr th {\n",
       "        vertical-align: top;\n",
       "    }\n",
       "\n",
       "    .dataframe thead th {\n",
       "        text-align: right;\n",
       "    }\n",
       "</style>\n",
       "<table border=\"1\" class=\"dataframe\">\n",
       "  <thead>\n",
       "    <tr style=\"text-align: right;\">\n",
       "      <th></th>\n",
       "      <th>Date</th>\n",
       "      <th>SPX</th>\n",
       "      <th>GLD</th>\n",
       "      <th>USO</th>\n",
       "      <th>SLV</th>\n",
       "      <th>EUR/USD</th>\n",
       "    </tr>\n",
       "  </thead>\n",
       "  <tbody>\n",
       "    <tr>\n",
       "      <th>0</th>\n",
       "      <td>1/2/2008</td>\n",
       "      <td>1447.160034</td>\n",
       "      <td>84.860001</td>\n",
       "      <td>78.470001</td>\n",
       "      <td>15.180</td>\n",
       "      <td>1.471692</td>\n",
       "    </tr>\n",
       "    <tr>\n",
       "      <th>1</th>\n",
       "      <td>1/3/2008</td>\n",
       "      <td>1447.160034</td>\n",
       "      <td>85.570000</td>\n",
       "      <td>78.370003</td>\n",
       "      <td>15.285</td>\n",
       "      <td>1.474491</td>\n",
       "    </tr>\n",
       "    <tr>\n",
       "      <th>2</th>\n",
       "      <td>1/4/2008</td>\n",
       "      <td>1411.630005</td>\n",
       "      <td>85.129997</td>\n",
       "      <td>77.309998</td>\n",
       "      <td>15.167</td>\n",
       "      <td>1.475492</td>\n",
       "    </tr>\n",
       "    <tr>\n",
       "      <th>3</th>\n",
       "      <td>1/7/2008</td>\n",
       "      <td>1416.180054</td>\n",
       "      <td>84.769997</td>\n",
       "      <td>75.500000</td>\n",
       "      <td>15.053</td>\n",
       "      <td>1.468299</td>\n",
       "    </tr>\n",
       "    <tr>\n",
       "      <th>4</th>\n",
       "      <td>1/8/2008</td>\n",
       "      <td>1390.189941</td>\n",
       "      <td>86.779999</td>\n",
       "      <td>76.059998</td>\n",
       "      <td>15.590</td>\n",
       "      <td>1.557099</td>\n",
       "    </tr>\n",
       "  </tbody>\n",
       "</table>\n",
       "</div>"
      ],
      "text/plain": [
       "       Date          SPX        GLD        USO     SLV   EUR/USD\n",
       "0  1/2/2008  1447.160034  84.860001  78.470001  15.180  1.471692\n",
       "1  1/3/2008  1447.160034  85.570000  78.370003  15.285  1.474491\n",
       "2  1/4/2008  1411.630005  85.129997  77.309998  15.167  1.475492\n",
       "3  1/7/2008  1416.180054  84.769997  75.500000  15.053  1.468299\n",
       "4  1/8/2008  1390.189941  86.779999  76.059998  15.590  1.557099"
      ]
     },
     "execution_count": 4,
     "metadata": {},
     "output_type": "execute_result"
    }
   ],
   "source": [
    "data.head()"
   ]
  },
  {
   "cell_type": "code",
   "execution_count": 5,
   "id": "cc8591d2",
   "metadata": {},
   "outputs": [
    {
     "data": {
      "text/html": [
       "<div>\n",
       "<style scoped>\n",
       "    .dataframe tbody tr th:only-of-type {\n",
       "        vertical-align: middle;\n",
       "    }\n",
       "\n",
       "    .dataframe tbody tr th {\n",
       "        vertical-align: top;\n",
       "    }\n",
       "\n",
       "    .dataframe thead th {\n",
       "        text-align: right;\n",
       "    }\n",
       "</style>\n",
       "<table border=\"1\" class=\"dataframe\">\n",
       "  <thead>\n",
       "    <tr style=\"text-align: right;\">\n",
       "      <th></th>\n",
       "      <th>Date</th>\n",
       "      <th>SPX</th>\n",
       "      <th>GLD</th>\n",
       "      <th>USO</th>\n",
       "      <th>SLV</th>\n",
       "      <th>EUR/USD</th>\n",
       "    </tr>\n",
       "  </thead>\n",
       "  <tbody>\n",
       "    <tr>\n",
       "      <th>0</th>\n",
       "      <td>1/2/2008</td>\n",
       "      <td>1447.160034</td>\n",
       "      <td>84.860001</td>\n",
       "      <td>78.470001</td>\n",
       "      <td>15.180000</td>\n",
       "      <td>1.471692</td>\n",
       "    </tr>\n",
       "    <tr>\n",
       "      <th>1</th>\n",
       "      <td>1/3/2008</td>\n",
       "      <td>1447.160034</td>\n",
       "      <td>85.570000</td>\n",
       "      <td>78.370003</td>\n",
       "      <td>15.285000</td>\n",
       "      <td>1.474491</td>\n",
       "    </tr>\n",
       "    <tr>\n",
       "      <th>2</th>\n",
       "      <td>1/4/2008</td>\n",
       "      <td>1411.630005</td>\n",
       "      <td>85.129997</td>\n",
       "      <td>77.309998</td>\n",
       "      <td>15.167000</td>\n",
       "      <td>1.475492</td>\n",
       "    </tr>\n",
       "    <tr>\n",
       "      <th>3</th>\n",
       "      <td>1/7/2008</td>\n",
       "      <td>1416.180054</td>\n",
       "      <td>84.769997</td>\n",
       "      <td>75.500000</td>\n",
       "      <td>15.053000</td>\n",
       "      <td>1.468299</td>\n",
       "    </tr>\n",
       "    <tr>\n",
       "      <th>4</th>\n",
       "      <td>1/8/2008</td>\n",
       "      <td>1390.189941</td>\n",
       "      <td>86.779999</td>\n",
       "      <td>76.059998</td>\n",
       "      <td>15.590000</td>\n",
       "      <td>1.557099</td>\n",
       "    </tr>\n",
       "    <tr>\n",
       "      <th>5</th>\n",
       "      <td>1/9/2008</td>\n",
       "      <td>1409.130005</td>\n",
       "      <td>86.550003</td>\n",
       "      <td>75.250000</td>\n",
       "      <td>15.520000</td>\n",
       "      <td>1.466405</td>\n",
       "    </tr>\n",
       "    <tr>\n",
       "      <th>6</th>\n",
       "      <td>1/10/2008</td>\n",
       "      <td>1420.329956</td>\n",
       "      <td>88.250000</td>\n",
       "      <td>74.019997</td>\n",
       "      <td>16.061001</td>\n",
       "      <td>1.480100</td>\n",
       "    </tr>\n",
       "    <tr>\n",
       "      <th>7</th>\n",
       "      <td>1/11/2008</td>\n",
       "      <td>1401.020020</td>\n",
       "      <td>88.580002</td>\n",
       "      <td>73.089996</td>\n",
       "      <td>16.077000</td>\n",
       "      <td>1.479006</td>\n",
       "    </tr>\n",
       "    <tr>\n",
       "      <th>8</th>\n",
       "      <td>1/14/2008</td>\n",
       "      <td>1416.250000</td>\n",
       "      <td>89.540001</td>\n",
       "      <td>74.250000</td>\n",
       "      <td>16.280001</td>\n",
       "      <td>1.486900</td>\n",
       "    </tr>\n",
       "    <tr>\n",
       "      <th>9</th>\n",
       "      <td>1/15/2008</td>\n",
       "      <td>1380.949951</td>\n",
       "      <td>87.989998</td>\n",
       "      <td>72.779999</td>\n",
       "      <td>15.834000</td>\n",
       "      <td>1.480210</td>\n",
       "    </tr>\n",
       "  </tbody>\n",
       "</table>\n",
       "</div>"
      ],
      "text/plain": [
       "        Date          SPX        GLD        USO        SLV   EUR/USD\n",
       "0   1/2/2008  1447.160034  84.860001  78.470001  15.180000  1.471692\n",
       "1   1/3/2008  1447.160034  85.570000  78.370003  15.285000  1.474491\n",
       "2   1/4/2008  1411.630005  85.129997  77.309998  15.167000  1.475492\n",
       "3   1/7/2008  1416.180054  84.769997  75.500000  15.053000  1.468299\n",
       "4   1/8/2008  1390.189941  86.779999  76.059998  15.590000  1.557099\n",
       "5   1/9/2008  1409.130005  86.550003  75.250000  15.520000  1.466405\n",
       "6  1/10/2008  1420.329956  88.250000  74.019997  16.061001  1.480100\n",
       "7  1/11/2008  1401.020020  88.580002  73.089996  16.077000  1.479006\n",
       "8  1/14/2008  1416.250000  89.540001  74.250000  16.280001  1.486900\n",
       "9  1/15/2008  1380.949951  87.989998  72.779999  15.834000  1.480210"
      ]
     },
     "execution_count": 5,
     "metadata": {},
     "output_type": "execute_result"
    }
   ],
   "source": [
    "data.head(10)"
   ]
  },
  {
   "cell_type": "code",
   "execution_count": 6,
   "id": "74aaa004",
   "metadata": {},
   "outputs": [
    {
     "data": {
      "text/html": [
       "<div>\n",
       "<style scoped>\n",
       "    .dataframe tbody tr th:only-of-type {\n",
       "        vertical-align: middle;\n",
       "    }\n",
       "\n",
       "    .dataframe tbody tr th {\n",
       "        vertical-align: top;\n",
       "    }\n",
       "\n",
       "    .dataframe thead th {\n",
       "        text-align: right;\n",
       "    }\n",
       "</style>\n",
       "<table border=\"1\" class=\"dataframe\">\n",
       "  <thead>\n",
       "    <tr style=\"text-align: right;\">\n",
       "      <th></th>\n",
       "      <th>Date</th>\n",
       "      <th>SPX</th>\n",
       "      <th>GLD</th>\n",
       "      <th>USO</th>\n",
       "      <th>SLV</th>\n",
       "      <th>EUR/USD</th>\n",
       "    </tr>\n",
       "  </thead>\n",
       "  <tbody>\n",
       "    <tr>\n",
       "      <th>2285</th>\n",
       "      <td>5/8/2018</td>\n",
       "      <td>2671.919922</td>\n",
       "      <td>124.589996</td>\n",
       "      <td>14.0600</td>\n",
       "      <td>15.5100</td>\n",
       "      <td>1.186789</td>\n",
       "    </tr>\n",
       "    <tr>\n",
       "      <th>2286</th>\n",
       "      <td>5/9/2018</td>\n",
       "      <td>2697.790039</td>\n",
       "      <td>124.330002</td>\n",
       "      <td>14.3700</td>\n",
       "      <td>15.5300</td>\n",
       "      <td>1.184722</td>\n",
       "    </tr>\n",
       "    <tr>\n",
       "      <th>2287</th>\n",
       "      <td>5/10/2018</td>\n",
       "      <td>2723.070068</td>\n",
       "      <td>125.180000</td>\n",
       "      <td>14.4100</td>\n",
       "      <td>15.7400</td>\n",
       "      <td>1.191753</td>\n",
       "    </tr>\n",
       "    <tr>\n",
       "      <th>2288</th>\n",
       "      <td>5/14/2018</td>\n",
       "      <td>2730.129883</td>\n",
       "      <td>124.489998</td>\n",
       "      <td>14.3800</td>\n",
       "      <td>15.5600</td>\n",
       "      <td>1.193118</td>\n",
       "    </tr>\n",
       "    <tr>\n",
       "      <th>2289</th>\n",
       "      <td>5/16/2018</td>\n",
       "      <td>2725.780029</td>\n",
       "      <td>122.543800</td>\n",
       "      <td>14.4058</td>\n",
       "      <td>15.4542</td>\n",
       "      <td>1.182033</td>\n",
       "    </tr>\n",
       "  </tbody>\n",
       "</table>\n",
       "</div>"
      ],
      "text/plain": [
       "           Date          SPX         GLD      USO      SLV   EUR/USD\n",
       "2285   5/8/2018  2671.919922  124.589996  14.0600  15.5100  1.186789\n",
       "2286   5/9/2018  2697.790039  124.330002  14.3700  15.5300  1.184722\n",
       "2287  5/10/2018  2723.070068  125.180000  14.4100  15.7400  1.191753\n",
       "2288  5/14/2018  2730.129883  124.489998  14.3800  15.5600  1.193118\n",
       "2289  5/16/2018  2725.780029  122.543800  14.4058  15.4542  1.182033"
      ]
     },
     "execution_count": 6,
     "metadata": {},
     "output_type": "execute_result"
    }
   ],
   "source": [
    "data.tail()"
   ]
  },
  {
   "cell_type": "code",
   "execution_count": 7,
   "id": "4e150310",
   "metadata": {},
   "outputs": [
    {
     "data": {
      "text/html": [
       "<div>\n",
       "<style scoped>\n",
       "    .dataframe tbody tr th:only-of-type {\n",
       "        vertical-align: middle;\n",
       "    }\n",
       "\n",
       "    .dataframe tbody tr th {\n",
       "        vertical-align: top;\n",
       "    }\n",
       "\n",
       "    .dataframe thead th {\n",
       "        text-align: right;\n",
       "    }\n",
       "</style>\n",
       "<table border=\"1\" class=\"dataframe\">\n",
       "  <thead>\n",
       "    <tr style=\"text-align: right;\">\n",
       "      <th></th>\n",
       "      <th>Date</th>\n",
       "      <th>SPX</th>\n",
       "      <th>GLD</th>\n",
       "      <th>USO</th>\n",
       "      <th>SLV</th>\n",
       "      <th>EUR/USD</th>\n",
       "    </tr>\n",
       "  </thead>\n",
       "  <tbody>\n",
       "    <tr>\n",
       "      <th>2280</th>\n",
       "      <td>4/30/2018</td>\n",
       "      <td>2648.050049</td>\n",
       "      <td>124.589996</td>\n",
       "      <td>13.8000</td>\n",
       "      <td>15.3800</td>\n",
       "      <td>1.208123</td>\n",
       "    </tr>\n",
       "    <tr>\n",
       "      <th>2281</th>\n",
       "      <td>5/1/2018</td>\n",
       "      <td>2654.800049</td>\n",
       "      <td>123.709999</td>\n",
       "      <td>13.6100</td>\n",
       "      <td>15.2400</td>\n",
       "      <td>1.199156</td>\n",
       "    </tr>\n",
       "    <tr>\n",
       "      <th>2282</th>\n",
       "      <td>5/2/2018</td>\n",
       "      <td>2635.669922</td>\n",
       "      <td>123.650002</td>\n",
       "      <td>13.6700</td>\n",
       "      <td>15.4200</td>\n",
       "      <td>1.195100</td>\n",
       "    </tr>\n",
       "    <tr>\n",
       "      <th>2283</th>\n",
       "      <td>5/3/2018</td>\n",
       "      <td>2629.729980</td>\n",
       "      <td>124.279999</td>\n",
       "      <td>13.8200</td>\n",
       "      <td>15.4600</td>\n",
       "      <td>1.198926</td>\n",
       "    </tr>\n",
       "    <tr>\n",
       "      <th>2284</th>\n",
       "      <td>5/7/2018</td>\n",
       "      <td>2672.629883</td>\n",
       "      <td>124.570000</td>\n",
       "      <td>14.1000</td>\n",
       "      <td>15.5200</td>\n",
       "      <td>1.193374</td>\n",
       "    </tr>\n",
       "    <tr>\n",
       "      <th>2285</th>\n",
       "      <td>5/8/2018</td>\n",
       "      <td>2671.919922</td>\n",
       "      <td>124.589996</td>\n",
       "      <td>14.0600</td>\n",
       "      <td>15.5100</td>\n",
       "      <td>1.186789</td>\n",
       "    </tr>\n",
       "    <tr>\n",
       "      <th>2286</th>\n",
       "      <td>5/9/2018</td>\n",
       "      <td>2697.790039</td>\n",
       "      <td>124.330002</td>\n",
       "      <td>14.3700</td>\n",
       "      <td>15.5300</td>\n",
       "      <td>1.184722</td>\n",
       "    </tr>\n",
       "    <tr>\n",
       "      <th>2287</th>\n",
       "      <td>5/10/2018</td>\n",
       "      <td>2723.070068</td>\n",
       "      <td>125.180000</td>\n",
       "      <td>14.4100</td>\n",
       "      <td>15.7400</td>\n",
       "      <td>1.191753</td>\n",
       "    </tr>\n",
       "    <tr>\n",
       "      <th>2288</th>\n",
       "      <td>5/14/2018</td>\n",
       "      <td>2730.129883</td>\n",
       "      <td>124.489998</td>\n",
       "      <td>14.3800</td>\n",
       "      <td>15.5600</td>\n",
       "      <td>1.193118</td>\n",
       "    </tr>\n",
       "    <tr>\n",
       "      <th>2289</th>\n",
       "      <td>5/16/2018</td>\n",
       "      <td>2725.780029</td>\n",
       "      <td>122.543800</td>\n",
       "      <td>14.4058</td>\n",
       "      <td>15.4542</td>\n",
       "      <td>1.182033</td>\n",
       "    </tr>\n",
       "  </tbody>\n",
       "</table>\n",
       "</div>"
      ],
      "text/plain": [
       "           Date          SPX         GLD      USO      SLV   EUR/USD\n",
       "2280  4/30/2018  2648.050049  124.589996  13.8000  15.3800  1.208123\n",
       "2281   5/1/2018  2654.800049  123.709999  13.6100  15.2400  1.199156\n",
       "2282   5/2/2018  2635.669922  123.650002  13.6700  15.4200  1.195100\n",
       "2283   5/3/2018  2629.729980  124.279999  13.8200  15.4600  1.198926\n",
       "2284   5/7/2018  2672.629883  124.570000  14.1000  15.5200  1.193374\n",
       "2285   5/8/2018  2671.919922  124.589996  14.0600  15.5100  1.186789\n",
       "2286   5/9/2018  2697.790039  124.330002  14.3700  15.5300  1.184722\n",
       "2287  5/10/2018  2723.070068  125.180000  14.4100  15.7400  1.191753\n",
       "2288  5/14/2018  2730.129883  124.489998  14.3800  15.5600  1.193118\n",
       "2289  5/16/2018  2725.780029  122.543800  14.4058  15.4542  1.182033"
      ]
     },
     "execution_count": 7,
     "metadata": {},
     "output_type": "execute_result"
    }
   ],
   "source": [
    "data.tail(10)"
   ]
  },
  {
   "cell_type": "code",
   "execution_count": 8,
   "id": "f0a00640",
   "metadata": {},
   "outputs": [
    {
     "name": "stdout",
     "output_type": "stream",
     "text": [
      "<class 'pandas.core.frame.DataFrame'>\n",
      "RangeIndex: 2290 entries, 0 to 2289\n",
      "Data columns (total 6 columns):\n",
      " #   Column   Non-Null Count  Dtype  \n",
      "---  ------   --------------  -----  \n",
      " 0   Date     2290 non-null   object \n",
      " 1   SPX      2290 non-null   float64\n",
      " 2   GLD      2290 non-null   float64\n",
      " 3   USO      2290 non-null   float64\n",
      " 4   SLV      2290 non-null   float64\n",
      " 5   EUR/USD  2290 non-null   float64\n",
      "dtypes: float64(5), object(1)\n",
      "memory usage: 107.5+ KB\n"
     ]
    }
   ],
   "source": [
    "data.info()"
   ]
  },
  {
   "cell_type": "code",
   "execution_count": 9,
   "id": "8cc28930",
   "metadata": {},
   "outputs": [
    {
     "data": {
      "text/plain": [
       "(2290, 6)"
      ]
     },
     "execution_count": 9,
     "metadata": {},
     "output_type": "execute_result"
    }
   ],
   "source": [
    "data.shape"
   ]
  },
  {
   "cell_type": "code",
   "execution_count": 10,
   "id": "38517108",
   "metadata": {},
   "outputs": [
    {
     "data": {
      "text/plain": [
       "Date       0\n",
       "SPX        0\n",
       "GLD        0\n",
       "USO        0\n",
       "SLV        0\n",
       "EUR/USD    0\n",
       "dtype: int64"
      ]
     },
     "execution_count": 10,
     "metadata": {},
     "output_type": "execute_result"
    }
   ],
   "source": [
    "data.isnull().sum()"
   ]
  },
  {
   "cell_type": "code",
   "execution_count": 11,
   "id": "a40bc2e3",
   "metadata": {},
   "outputs": [
    {
     "data": {
      "text/html": [
       "<div>\n",
       "<style scoped>\n",
       "    .dataframe tbody tr th:only-of-type {\n",
       "        vertical-align: middle;\n",
       "    }\n",
       "\n",
       "    .dataframe tbody tr th {\n",
       "        vertical-align: top;\n",
       "    }\n",
       "\n",
       "    .dataframe thead th {\n",
       "        text-align: right;\n",
       "    }\n",
       "</style>\n",
       "<table border=\"1\" class=\"dataframe\">\n",
       "  <thead>\n",
       "    <tr style=\"text-align: right;\">\n",
       "      <th></th>\n",
       "      <th>SPX</th>\n",
       "      <th>GLD</th>\n",
       "      <th>USO</th>\n",
       "      <th>SLV</th>\n",
       "      <th>EUR/USD</th>\n",
       "    </tr>\n",
       "  </thead>\n",
       "  <tbody>\n",
       "    <tr>\n",
       "      <th>count</th>\n",
       "      <td>2290.000000</td>\n",
       "      <td>2290.000000</td>\n",
       "      <td>2290.000000</td>\n",
       "      <td>2290.000000</td>\n",
       "      <td>2290.000000</td>\n",
       "    </tr>\n",
       "    <tr>\n",
       "      <th>mean</th>\n",
       "      <td>1654.315776</td>\n",
       "      <td>122.732875</td>\n",
       "      <td>31.842221</td>\n",
       "      <td>20.084997</td>\n",
       "      <td>1.283653</td>\n",
       "    </tr>\n",
       "    <tr>\n",
       "      <th>std</th>\n",
       "      <td>519.111540</td>\n",
       "      <td>23.283346</td>\n",
       "      <td>19.523517</td>\n",
       "      <td>7.092566</td>\n",
       "      <td>0.131547</td>\n",
       "    </tr>\n",
       "    <tr>\n",
       "      <th>min</th>\n",
       "      <td>676.530029</td>\n",
       "      <td>70.000000</td>\n",
       "      <td>7.960000</td>\n",
       "      <td>8.850000</td>\n",
       "      <td>1.039047</td>\n",
       "    </tr>\n",
       "    <tr>\n",
       "      <th>25%</th>\n",
       "      <td>1239.874969</td>\n",
       "      <td>109.725000</td>\n",
       "      <td>14.380000</td>\n",
       "      <td>15.570000</td>\n",
       "      <td>1.171313</td>\n",
       "    </tr>\n",
       "    <tr>\n",
       "      <th>50%</th>\n",
       "      <td>1551.434998</td>\n",
       "      <td>120.580002</td>\n",
       "      <td>33.869999</td>\n",
       "      <td>17.268500</td>\n",
       "      <td>1.303297</td>\n",
       "    </tr>\n",
       "    <tr>\n",
       "      <th>75%</th>\n",
       "      <td>2073.010070</td>\n",
       "      <td>132.840004</td>\n",
       "      <td>37.827501</td>\n",
       "      <td>22.882500</td>\n",
       "      <td>1.369971</td>\n",
       "    </tr>\n",
       "    <tr>\n",
       "      <th>max</th>\n",
       "      <td>2872.870117</td>\n",
       "      <td>184.589996</td>\n",
       "      <td>117.480003</td>\n",
       "      <td>47.259998</td>\n",
       "      <td>1.598798</td>\n",
       "    </tr>\n",
       "  </tbody>\n",
       "</table>\n",
       "</div>"
      ],
      "text/plain": [
       "               SPX          GLD          USO          SLV      EUR/USD\n",
       "count  2290.000000  2290.000000  2290.000000  2290.000000  2290.000000\n",
       "mean   1654.315776   122.732875    31.842221    20.084997     1.283653\n",
       "std     519.111540    23.283346    19.523517     7.092566     0.131547\n",
       "min     676.530029    70.000000     7.960000     8.850000     1.039047\n",
       "25%    1239.874969   109.725000    14.380000    15.570000     1.171313\n",
       "50%    1551.434998   120.580002    33.869999    17.268500     1.303297\n",
       "75%    2073.010070   132.840004    37.827501    22.882500     1.369971\n",
       "max    2872.870117   184.589996   117.480003    47.259998     1.598798"
      ]
     },
     "execution_count": 11,
     "metadata": {},
     "output_type": "execute_result"
    }
   ],
   "source": [
    "data.describe()"
   ]
  },
  {
   "cell_type": "markdown",
   "id": "f56eddd5",
   "metadata": {},
   "source": [
    "# Exploratory Data Analysis"
   ]
  },
  {
   "cell_type": "code",
   "execution_count": 14,
   "id": "3919802e",
   "metadata": {},
   "outputs": [
    {
     "data": {
      "image/png": "[encoded data removed]",
      "text/plain": [
       "<Figure size 1200x1000 with 2 Axes>"
      ]
     },
     "metadata": {},
     "output_type": "display_data"
    }
   ],
   "source": [
    "plt.style.use('seaborn-whitegrid')\n",
    "plt.figure(figsize=(12, 10))\n",
    "sns.heatmap(data.corr(),cbar=True, square=True, fmt='.1f',annot=True, annot_kws={'size':8})\n",
    "plt.show()"
   ]
  },
  {
   "cell_type": "code",
   "execution_count": 16,
   "id": "4e8157b3",
   "metadata": {},
   "outputs": [],
   "source": [
    "correlation = data.corr()"
   ]
  },
  {
   "cell_type": "code",
   "execution_count": 17,
   "id": "b23b4f84",
   "metadata": {},
   "outputs": [
    {
     "name": "stdout",
     "output_type": "stream",
     "text": [
      "SPX        0.049345\n",
      "GLD        1.000000\n",
      "USO       -0.186360\n",
      "SLV        0.866632\n",
      "EUR/USD   -0.024375\n",
      "Name: GLD, dtype: float64\n"
     ]
    }
   ],
   "source": [
    "print(correlation['GLD'])"
   ]
  },
  {
   "cell_type": "code",
   "execution_count": 18,
   "id": "5dac3263",
   "metadata": {},
   "outputs": [
    {
     "name": "stderr",
     "output_type": "stream",
     "text": [
      "C:\\Users\\priya\\anaconda3\\lib\\site-packages\\seaborn\\distributions.py:2619: FutureWarning: `distplot` is a deprecated function and will be removed in a future version. Please adapt your code to use either `displot` (a figure-level function with similar flexibility) or `histplot` (an axes-level function for histograms).\n",
      "  warnings.warn(msg, FutureWarning)\n"
     ]
    },
    {
     "data": {
      "text/plain": [
       "<AxesSubplot:xlabel='GLD', ylabel='Density'>"
      ]
     },
     "execution_count": 18,
     "metadata": {},
     "output_type": "execute_result"
    },
    {
     "data": {
      "image/png": "[encoded data removed]",
      "text/plain": [
       "<Figure size 640x480 with 1 Axes>"
      ]
     },
     "metadata": {},
     "output_type": "display_data"
    }
   ],
   "source": [
    "sns.distplot(data['GLD'],color='purple')"
   ]
  },
  {
   "cell_type": "markdown",
   "id": "2a80c753",
   "metadata": {},
   "source": [
    "# Data Preparation"
   ]
  },
  {
   "cell_type": "code",
   "execution_count": 19,
   "id": "13f7e96e",
   "metadata": {},
   "outputs": [],
   "source": [
    "X = data.drop(['Date','GLD'],axis=1)\n",
    "Y = data['GLD']"
   ]
  },
  {
   "cell_type": "code",
   "execution_count": 20,
   "id": "5db696fb",
   "metadata": {},
   "outputs": [
    {
     "name": "stdout",
     "output_type": "stream",
     "text": [
      "              SPX        USO      SLV   EUR/USD\n",
      "0     1447.160034  78.470001  15.1800  1.471692\n",
      "1     1447.160034  78.370003  15.2850  1.474491\n",
      "2     1411.630005  77.309998  15.1670  1.475492\n",
      "3     1416.180054  75.500000  15.0530  1.468299\n",
      "4     1390.189941  76.059998  15.5900  1.557099\n",
      "...           ...        ...      ...       ...\n",
      "2285  2671.919922  14.060000  15.5100  1.186789\n",
      "2286  2697.790039  14.370000  15.5300  1.184722\n",
      "2287  2723.070068  14.410000  15.7400  1.191753\n",
      "2288  2730.129883  14.380000  15.5600  1.193118\n",
      "2289  2725.780029  14.405800  15.4542  1.182033\n",
      "\n",
      "[2290 rows x 4 columns]\n"
     ]
    }
   ],
   "source": [
    "print(X)"
   ]
  },
  {
   "cell_type": "code",
   "execution_count": 21,
   "id": "afe05f3c",
   "metadata": {},
   "outputs": [
    {
     "name": "stdout",
     "output_type": "stream",
     "text": [
      "0        84.860001\n",
      "1        85.570000\n",
      "2        85.129997\n",
      "3        84.769997\n",
      "4        86.779999\n",
      "           ...    \n",
      "2285    124.589996\n",
      "2286    124.330002\n",
      "2287    125.180000\n",
      "2288    124.489998\n",
      "2289    122.543800\n",
      "Name: GLD, Length: 2290, dtype: float64\n"
     ]
    }
   ],
   "source": [
    "print(Y)"
   ]
  },
  {
   "cell_type": "markdown",
   "id": "d600581e",
   "metadata": {},
   "source": [
    "# Training the model"
   ]
  },
  {
   "cell_type": "code",
   "execution_count": 22,
   "id": "b4fff955",
   "metadata": {},
   "outputs": [],
   "source": [
    "X_train,X_test,Y_train,Y_test=train_test_split(X,Y,test_size=0.3,random_state=42)"
   ]
  },
  {
   "cell_type": "code",
   "execution_count": 23,
   "id": "ab7e475f",
   "metadata": {},
   "outputs": [],
   "source": [
    "model = RandomForestRegressor(n_estimators=100)"
   ]
  },
  {
   "cell_type": "code",
   "execution_count": 24,
   "id": "ae757f33",
   "metadata": {},
   "outputs": [
    {
     "data": {
      "text/plain": [
       "RandomForestRegressor()"
      ]
     },
     "execution_count": 24,
     "metadata": {},
     "output_type": "execute_result"
    }
   ],
   "source": [
    "model.fit(X_train,Y_train)"
   ]
  },
  {
   "cell_type": "code",
   "execution_count": 25,
   "id": "c731a5b9",
   "metadata": {},
   "outputs": [
    {
     "data": {
      "text/plain": [
       "0.9902201121185259"
      ]
     },
     "execution_count": 25,
     "metadata": {},
     "output_type": "execute_result"
    }
   ],
   "source": [
    "model.score(X_test,Y_test)"
   ]
  },
  {
   "cell_type": "code",
   "execution_count": 28,
   "id": "2af8c8fc",
   "metadata": {},
   "outputs": [],
   "source": [
    "y_pred=model.predict(X_test)"
   ]
  },
  {
   "cell_type": "code",
   "execution_count": 29,
   "id": "d1e84992",
   "metadata": {},
   "outputs": [
    {
     "data": {
      "text/plain": [
       "array([122.70709931, 130.55120264, 127.45299994,  97.58519923,\n",
       "       119.22010014, 114.50779924, 124.71330125, 117.8904994 ,\n",
       "       107.96210098,  98.69119974,  95.94909966, 167.67759847,\n",
       "       148.26880091, 116.36680068, 171.08290058,  85.28469903,\n",
       "       124.26209884, 109.49429749, 112.21980071, 131.55210306,\n",
       "       124.15909973, 113.47980012, 115.6738009 , 108.72739937,\n",
       "       108.1640989 , 125.8129996 , 119.91329955, 112.63859874,\n",
       "       113.28590171, 126.02359874, 145.65220129,  89.11399949,\n",
       "       167.73449946, 113.41609939, 108.2555007 , 120.5472008 ,\n",
       "       141.39429927, 160.89810161, 173.75389859, 153.01250138,\n",
       "       119.77070075, 111.35880073, 121.29349974, 113.77239934,\n",
       "       122.08990022, 108.02480054,  87.72729907, 114.21369906,\n",
       "       129.93650198, 117.5579007 , 104.44279997, 129.94870214,\n",
       "       107.33269784, 160.62040495, 131.99360128, 117.72339979,\n",
       "       146.97240009, 133.76090198,  95.36820041, 124.4055015 ,\n",
       "       115.20090008,  86.57070142, 104.37599911, 114.03210071,\n",
       "        84.08579931, 122.31540058, 116.6112992 , 113.71540203,\n",
       "       165.66720215,  92.29440062,  79.8321012 , 160.89060088,\n",
       "       158.93920222, 106.61169967, 147.74870101, 109.9744977 ,\n",
       "       122.17240026, 128.90780181, 113.1391982 , 120.02380078,\n",
       "       135.60039707, 107.64940049,  93.75800026,  92.52739953,\n",
       "       111.72170065, 118.8589004 , 108.64869932, 112.17739997,\n",
       "       168.12419912, 160.73780033, 107.65339856, 124.87050097,\n",
       "       108.36469953, 115.23880185, 126.63079847, 108.17609928,\n",
       "       161.05870232,  84.29049881, 131.39300349, 114.35420116,\n",
       "       157.32879766, 110.80610037, 114.17009944, 109.24929857,\n",
       "       139.22330062,  88.24789967,  92.47299941, 174.75459984,\n",
       "       118.75710046, 118.4172002 , 121.19820091, 171.5985963 ,\n",
       "       131.71810131, 119.82890044, 158.23640205, 118.92789805,\n",
       "       119.24349975, 110.80509938, 119.58159891, 121.95000052,\n",
       "       128.76699928, 114.85920019,  89.2538994 , 114.24540136,\n",
       "       132.85610113, 115.46890129, 125.04670004,  90.94390068,\n",
       "       106.92940057, 117.54740132, 110.2262989 , 165.92370074,\n",
       "        80.34220076, 121.87547482,  73.46670062, 111.5199001 ,\n",
       "       101.07810125, 124.07690012,  76.00319993, 125.79879942,\n",
       "       119.79740055, 106.24639928,  89.96099987, 132.45870026,\n",
       "       139.07740089, 175.95699904, 126.70329923, 126.48969891,\n",
       "       124.12150034,  92.38979908, 148.07350088, 102.86219879,\n",
       "       117.77489983, 134.22279806, 135.58569935, 118.17370067,\n",
       "       116.62330152, 102.08169816, 123.5890991 ,  90.01749961,\n",
       "       107.83909915, 117.58810065, 169.45000051, 117.68660036,\n",
       "       117.04219943, 155.44450063, 111.06849962,  87.26269901,\n",
       "       117.31430184, 124.39829962, 121.04610198, 118.35990013,\n",
       "        97.22569923, 109.33729985, 115.06540002, 127.29130175,\n",
       "       156.05270087, 108.05250087, 123.47809906, 138.92300131,\n",
       "        90.82980044, 118.19320109, 130.28420034, 114.15569968,\n",
       "       108.37489928, 119.08620036, 127.65250117, 125.98110091,\n",
       "       144.36610077, 112.50160043,  93.77530028, 115.2636004 ,\n",
       "       125.55860109, 120.6276017 , 122.18940106,  92.8307007 ,\n",
       "       121.03249878,  93.13840081, 118.7362005 , 124.95420047,\n",
       "       121.93170101, 131.08170043, 124.26639898, 114.86300156,\n",
       "       127.48880119, 113.27300071, 165.10419769, 122.26389796,\n",
       "       119.31880229, 113.82080042, 120.13540001, 120.01390014,\n",
       "       105.97229987, 116.41460045, 126.2717    , 172.32569651,\n",
       "        86.03210076, 135.48819807, 127.50799877,  73.48370098,\n",
       "       119.27349942,  88.4529    , 161.89550141,  92.20110017,\n",
       "       159.20680075, 102.35189799, 103.1382994 , 102.40969873,\n",
       "       118.60759925, 165.38119977, 120.36850112, 135.75999863,\n",
       "        97.3298989 , 113.06679912, 132.3178016 , 145.2283002 ,\n",
       "       125.6622008 , 101.52579941, 125.33540074, 159.93980183,\n",
       "       119.56660102, 126.53290088, 127.61080171, 115.46169945,\n",
       "       157.32170163, 127.78739941, 114.47319971, 177.18219909,\n",
       "       120.135302  , 119.13850088, 102.89099853, 160.62869956,\n",
       "       114.81520103, 118.42169957, 126.04099978, 116.80490086,\n",
       "       114.74879959,  90.44289927, 101.54580048, 131.72320052,\n",
       "       119.10420185, 168.20239854, 109.6218996 ,  86.03850076,\n",
       "        91.78719961, 155.25330119, 156.03590095, 153.36780091,\n",
       "        72.89589951, 120.88930058, 117.2767005 , 159.48309949,\n",
       "       135.36179937, 111.97989993, 114.56790011, 160.54530279,\n",
       "       126.01499866, 119.66810094, 117.39349975, 156.63100334,\n",
       "       104.05039964,  89.23499935,  83.73439922,  89.56419916,\n",
       "       115.62430074, 113.42600015, 119.46750133, 119.4666004 ,\n",
       "        79.34199999,  90.5433014 , 153.51420324, 119.40490098,\n",
       "       131.46469963, 126.31280087, 113.61880161,  82.28310077,\n",
       "       117.99699903,  89.71100061, 117.733     , 162.65899971,\n",
       "       121.79120115, 110.64040084, 125.51449807, 114.77990052,\n",
       "       136.00910029,  79.90890078, 163.57000011, 132.55960094,\n",
       "       164.02010038, 127.76739903,  91.97419918, 108.52669915,\n",
       "       114.37259979, 127.55950157, 119.17210173,  92.33439898,\n",
       "       132.12980001, 162.43360192,  72.28490083, 111.92820014,\n",
       "       109.70979885, 113.68109779, 119.94720106, 112.15989953,\n",
       "       120.32720019, 118.59090176, 126.25360091, 125.14520159,\n",
       "       109.85949895, 167.36709973, 169.6702994 , 112.19439907,\n",
       "       170.10489576, 112.03310006, 161.32840142, 127.36349864,\n",
       "       167.38659874, 136.49350158, 109.32869827, 167.18589919,\n",
       "       116.65940136,  72.37840056, 113.46839973,  93.08719991,\n",
       "        87.94059999, 104.12489871, 125.38040091, 125.39409983,\n",
       "       167.93229945, 121.77270031,  87.11429837, 131.83099814,\n",
       "       121.69530039, 107.6676992 , 166.04120001, 126.07919758,\n",
       "       126.99970142, 113.57330052, 135.63120061, 125.12000119,\n",
       "       143.98859873, 122.92079916, 118.85      , 121.07270009,\n",
       "       166.82429988,  71.61490011, 163.28129938, 167.32749887,\n",
       "       118.42230094, 103.66929871, 127.8018991 , 154.5107001 ,\n",
       "       172.07829904, 135.77509737, 127.1027007 , 123.83059999,\n",
       "       153.92209806,  88.16169965, 131.060001  , 111.01840087,\n",
       "       164.13060004, 156.27620093, 165.8237004 , 121.61149997,\n",
       "        89.94769998, 132.16010181, 100.46699982, 127.63389754,\n",
       "       127.4144988 , 108.43079937,  90.99029864, 152.89120115,\n",
       "        95.21079896,  88.0362    , 124.85619928,  87.36499802,\n",
       "        95.61730057, 113.84309965, 156.39350322, 147.49510017,\n",
       "       105.74199952, 166.39289587, 111.35190058, 128.15859991,\n",
       "        90.62429987, 109.72989962,  76.06290102, 110.62739995,\n",
       "       164.40029812, 153.44859902, 152.7990015 , 161.56240263,\n",
       "        92.52079942, 117.43130139,  93.82230025, 130.52660066,\n",
       "       117.62479998, 117.33300018, 124.36600048, 120.75650004,\n",
       "        97.84319946, 167.93510028, 146.72549898, 124.68079922,\n",
       "       169.79859826,  83.0971001 , 167.15489677, 130.24460224,\n",
       "       119.74860166,  88.51579987, 120.07549861,  83.81709876,\n",
       "       118.77910059, 114.4675993 , 116.57509904, 153.84849904,\n",
       "       136.61510314, 118.03050079, 119.01789816, 124.44949905,\n",
       "       115.59410138, 118.57670007, 122.18150108, 149.84200074,\n",
       "       148.51439945, 168.0393998 ,  98.55369978, 160.48710383,\n",
       "        93.31149974, 140.02699873, 121.15630024,  83.85639871,\n",
       "       106.58999985, 123.10320006, 170.13509584,  93.77449898,\n",
       "        96.59280055, 153.01720001, 152.54280134, 120.69790023,\n",
       "        94.07400004,  81.40670001, 121.63349888, 121.48269946,\n",
       "       119.4743003 ,  92.04880113, 153.90850037, 152.49850086,\n",
       "       118.94949939, 161.88080295, 127.71739999, 111.16319847,\n",
       "       112.18870054, 110.39680096, 166.23690095, 119.79770086,\n",
       "       111.3704997 , 149.41019917,  87.92459919,  99.277699  ,\n",
       "       117.60640133,  90.62069984, 139.15509832, 149.77160259,\n",
       "       125.2045999 , 112.24070107, 165.49309928, 120.33800004,\n",
       "       115.25440062, 102.92300062, 129.12080218, 115.50880043,\n",
       "       124.82010045, 166.16509935, 109.44659859, 119.93389947,\n",
       "       115.95579842, 111.88220027, 152.06090009, 138.25209976,\n",
       "       116.76780068,  72.26850067, 140.88580059, 121.04530066,\n",
       "        81.22899936, 124.49420044, 128.02180127, 119.88539987,\n",
       "       126.01990096, 125.30599934, 161.35899848, 143.03469886,\n",
       "        89.19330011,  91.31769919, 118.20559948, 109.81869929,\n",
       "        87.63590012, 114.62029978,  91.95280004, 125.51399971,\n",
       "       157.34449778, 159.90760019, 121.46539982,  93.09980032,\n",
       "       116.93709956, 126.06450049, 121.064399  , 120.28260214,\n",
       "       150.08820039, 118.14759901, 140.17550035, 144.04170116,\n",
       "       116.6473996 ,  90.38289928, 124.86530025, 126.55450058,\n",
       "       119.53479948, 112.89990043, 124.35989953, 110.99610102,\n",
       "       124.59669972, 110.04259924, 149.54769844, 117.87950072,\n",
       "       125.44339996, 170.27329511,  89.86159869,  92.46859883,\n",
       "       119.05410084, 126.02600183, 118.59880104, 115.94949945,\n",
       "       161.44429904, 111.11890014, 125.93149844, 153.21360076,\n",
       "       161.24670029,  83.32929835, 151.85539859, 101.9786991 ,\n",
       "       155.34520061, 155.71980078, 120.11849967, 140.3996988 ,\n",
       "       159.23569857,  83.96959969, 117.25820177, 153.26340379,\n",
       "       121.15239936,  94.17669879, 106.92219984,  92.14080045,\n",
       "       126.35690188,  83.76920008, 108.24639874, 122.04309925,\n",
       "       124.99129957,  73.61909925, 165.30040001, 168.20209964,\n",
       "       110.48300024,  90.50570169, 162.47139967, 114.6750997 ,\n",
       "       120.59540062, 168.53950081, 125.57009939,  89.63809942,\n",
       "       146.60050114, 109.55969818, 120.62719965, 122.0158014 ,\n",
       "       126.33020194,  87.08019934, 102.21299904, 125.63439922,\n",
       "       124.32789916,  90.70489992, 174.03089924, 152.20290072,\n",
       "       159.05609807, 147.52719985, 165.7206987 , 107.8951001 ,\n",
       "       109.25639901, 128.73619952, 119.93440047, 120.55799985,\n",
       "       105.13970157,  86.86460012,  90.39610002, 175.66419866,\n",
       "       171.69360066, 119.8824995 , 108.11619991, 140.90440093,\n",
       "       161.11709819, 127.17529836,  94.46770025,  86.31439908,\n",
       "       121.06010041, 125.12370018, 127.3965998 , 134.65680096,\n",
       "       113.90759978, 172.18129909, 125.54810138, 171.68329927,\n",
       "       126.33849903, 109.68119751, 123.41949932,  88.37349985,\n",
       "       126.41300012,  82.99320025, 127.28020022, 119.4351014 ,\n",
       "       117.09789964, 124.5725991 , 137.8696019 , 123.49270066,\n",
       "       151.18720063, 153.38930009, 160.05080437, 123.33179985,\n",
       "       104.05579969, 109.71149836, 124.18090006, 126.98670079,\n",
       "       122.59749902, 120.74059916, 111.30650112,  97.09249932,\n",
       "       113.28389991, 139.28289926,  90.68340017, 134.96129979,\n",
       "       125.12189987, 119.43280021, 111.87509998, 165.51799962,\n",
       "       127.99140072, 111.47560017, 132.03640043, 105.31820149,\n",
       "       105.57999979, 118.37510015,  89.31690039, 149.35470071,\n",
       "       124.71799978, 166.47659909, 124.50810016, 124.45939899,\n",
       "       117.92240079, 150.68390037, 107.89710106,  93.03970002,\n",
       "       117.23919919, 125.66639978, 134.03190224, 152.85509835,\n",
       "        93.78369988,  89.22699921, 153.07320029, 121.25580049,\n",
       "       162.34459939, 166.6668992 ,  92.75689948])"
      ]
     },
     "execution_count": 29,
     "metadata": {},
     "output_type": "execute_result"
    }
   ],
   "source": [
    "y_pred"
   ]
  },
  {
   "cell_type": "code",
   "execution_count": 32,
   "id": "bde728d4",
   "metadata": {},
   "outputs": [
    {
     "name": "stdout",
     "output_type": "stream",
     "text": [
      "R squared error :  0.9902201121185259\n"
     ]
    }
   ],
   "source": [
    "error_score = metrics.r2_score(Y_test, y_pred)\n",
    "print(\"R squared error : \", error_score)"
   ]
  },
  {
   "cell_type": "code",
   "execution_count": 35,
   "id": "ee73dbc7",
   "metadata": {},
   "outputs": [
    {
     "data": {
      "text/plain": [
       "99.02201121185259"
      ]
     },
     "execution_count": 35,
     "metadata": {},
     "output_type": "execute_result"
    }
   ],
   "source": [
    "metrics.r2_score(Y_test,y_pred)*100"
   ]
  },
  {
   "cell_type": "markdown",
   "id": "fd26e8a7",
   "metadata": {},
   "source": [
    "# CONCLUSION"
   ]
  },
  {
   "cell_type": "markdown",
   "id": "3350cb0e",
   "metadata": {},
   "source": [
    "Thus , I have created a gold price prediction model using Random Forest Regressor with an accuracy of 99% ."
   ]
  },
  {
   "cell_type": "code",
   "execution_count": null,
   "id": "2e4b32e9",
   "metadata": {},
   "outputs": [],
   "source": []
  }
 ],
 "metadata": {
  "kernelspec": {
   "display_name": "Python 3 (ipykernel)",
   "language": "python",
   "name": "python3"
  },
  "language_info": {
   "codemirror_mode": {
    "name": "ipython",
    "version": 3
   },
   "file_extension": ".py",
   "mimetype": "text/x-python",
   "name": "python",
   "nbconvert_exporter": "python",
   "pygments_lexer": "ipython3",
   "version": "3.9.13"
  }
 },
 "nbformat": 4,
 "nbformat_minor": 5
}
