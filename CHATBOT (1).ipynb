{
 "cells": [
  {
   "cell_type": "markdown",
   "id": "4b89357d",
   "metadata": {},
   "source": [
    "# CHATBOT  FOR  CODECLAUSE "
   ]
  },
  {
   "cell_type": "markdown",
   "id": "b0b1c2db",
   "metadata": {},
   "source": [
    "I have created a simple chatbot model for codeclause using the python nltk library"
   ]
  },
  {
   "cell_type": "markdown",
   "id": "14d1ae7c",
   "metadata": {},
   "source": [
    "# 1.Importing the libraries"
   ]
  },
  {
   "cell_type": "code",
   "execution_count": 1,
   "id": "4cc75676",
   "metadata": {},
   "outputs": [],
   "source": [
    "import nltk"
   ]
  },
  {
   "cell_type": "code",
   "execution_count": 2,
   "id": "37a736ea",
   "metadata": {},
   "outputs": [],
   "source": [
    "from nltk.chat.util import Chat,reflections"
   ]
  },
  {
   "cell_type": "markdown",
   "id": "ddad3622",
   "metadata": {},
   "source": [
    "# 2.The list of patterns and responses"
   ]
  },
  {
   "cell_type": "code",
   "execution_count": 3,
   "id": "d199b5f6",
   "metadata": {},
   "outputs": [],
   "source": [
    "pairs = [\n",
    "    [\n",
    "        r\"Hi there\",\n",
    "        [\"Hi there, how can I help you\",]\n",
    "    ],\n",
    "    \n",
    "    [\n",
    "        r\"Hello\",\n",
    "        [\"Hello, nice to see you\",]\n",
    "    ],\n",
    "    \n",
    "    [\n",
    "        r\"Hey\",\n",
    "        [\"Good to see you again\",]\n",
    "    ],\n",
    "    \n",
    "    [\n",
    "        r\"Bye\",\n",
    "        [\"See you! Have a nice day\",]\n",
    "    ],\n",
    "    \n",
    "    [\n",
    "        r\"Goodbye\",\n",
    "        [\"Bye! Come back again soon\",]\n",
    "    ],\n",
    "    \n",
    "    [\n",
    "        r\"Thanks\",\n",
    "        [\"Happy to help\",]\n",
    "    ],\n",
    "    \n",
    "    [\n",
    "        r\"Thank you\",\n",
    "        [\"Happy to help\",]\n",
    "    ],\n",
    "    \n",
    "    [\n",
    "        r\"Thats helpful\",\n",
    "        [\"Happy to help\",]\n",
    "    ],\n",
    "    \n",
    "    [\n",
    "        r\"About Codeclause\",\n",
    "        [\"We offer reliable, efficient delivery with high-caliber engineers & finely-tuned software development processes.We Believe In Leadership to lead the technology to build a better future Integrity to follow truth and be real Accountability for our every commitment\",]\n",
    "    ],\n",
    "    \n",
    "    [\n",
    "        r\"What is Codeclause\",\n",
    "        [\"We offer reliable, efficient delivery with high-caliber engineers & finely-tuned software development processes.We Believe In Leadership to lead the technology to build a better future Integrity to follow truth and be real Accountability for our every commitment\",]\n",
    "    ],\n",
    "    \n",
    "    [\n",
    "        r\"Services offered\",\n",
    "        [\"We offer reliable, efficient delivery with high-caliber engineers & finely-tuned software development processes.We Believe In Leadership to lead the technology to build a better future Integrity to follow truth and be real Accountability for our every commitment\",]\n",
    "    ],\n",
    "    \n",
    "    [\n",
    "        r\"How you could help me?\",\n",
    "        [\"I can give you info about the services and internships provided by codeclause.com\",]\n",
    "    ],\n",
    "    \n",
    "    [\n",
    "        r\"What can you do\",\n",
    "        [\"We can provide you internships in various domains\",]\n",
    "    ],\n",
    "    \n",
    "    [\n",
    "        r\"How to apply for the internship\",\n",
    "        [\"Please visit the website at https://codeclause.com/careers.html to apply for the domains you interested for\",]\n",
    "    ],\n",
    "    \n",
    "    [\n",
    "        r\"I have applied for internship\",\n",
    "        [\"you will get your offer letter on mail around starting week of the month for which you've applied for the internship\",]\n",
    "    ],\n",
    "    \n",
    "    [\n",
    "         r\"When will I receieve my offer letter?\",\n",
    "        [\"you will get your offer letter on mail around starting week of the month for which you've applied for the internship\",]\n",
    "\n",
    "    ],\n",
    "    \n",
    "    [\n",
    "        r\"my name is (.*)\",\n",
    "        [\"Hello %1, How are you today?\"]\n",
    "    ],\n",
    "    \n",
    "    [\n",
    "        r\"quit\",\n",
    "        [\"Good to see you again\",]\n",
    "    ],\n",
    "]\n",
    "    \n",
    "    \n",
    "    "
   ]
  },
  {
   "cell_type": "code",
   "execution_count": 4,
   "id": "a1bfe9f6",
   "metadata": {},
   "outputs": [],
   "source": [
    "def abc():\n",
    "    print('Welcome to CodeClause')\n",
    "    chat = Chat(pairs,reflections)\n",
    "    return chat.converse()\n",
    "    \n",
    "    "
   ]
  },
  {
   "cell_type": "code",
   "execution_count": 5,
   "id": "d5447a36",
   "metadata": {},
   "outputs": [
    {
     "name": "stdout",
     "output_type": "stream",
     "text": [
      "Welcome to CodeClause\n",
      ">my name is Priyanka\n",
      "Hello priyanka, How are you today?\n",
      ">what is codeclause\n",
      "We offer reliable, efficient delivery with high-caliber engineers & finely-tuned software development processes.We Believe In Leadership to lead the technology to build a better future Integrity to follow truth and be real Accountability for our every commitment\n",
      ">how you could help me\n",
      "I can give you info about the services and internships provided by codeclause.com\n",
      ">i have applied for internship\n",
      "you will get your offer letter on mail around starting week of the month for which you've applied for the internship\n",
      ">quit\n",
      "Good to see you again\n"
     ]
    }
   ],
   "source": [
    "if __name__== \"__main__\":\n",
    "    abc()"
   ]
  },
  {
   "cell_type": "markdown",
   "id": "7d57b5bc",
   "metadata": {},
   "source": [
    "# Thus I have created a simple chatbot for codeclause using the NLTK python library"
   ]
  }
 ],
 "metadata": {
  "kernelspec": {
   "display_name": "Python 3 (ipykernel)",
   "language": "python",
   "name": "python3"
  },
  "language_info": {
   "codemirror_mode": {
    "name": "ipython",
    "version": 3
   },
   "file_extension": ".py",
   "mimetype": "text/x-python",
   "name": "python",
   "nbconvert_exporter": "python",
   "pygments_lexer": "ipython3",
   "version": "3.9.13"
  }
 },
 "nbformat": 4,
 "nbformat_minor": 5
}
